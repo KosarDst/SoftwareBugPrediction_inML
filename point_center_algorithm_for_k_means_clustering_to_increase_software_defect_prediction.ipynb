{
  "nbformat": 4,
  "nbformat_minor": 0,
  "metadata": {
    "colab": {
      "provenance": [],
      "mount_file_id": "1TI0PXblOJgAUqYmx1evTWnAjj_t_mwPk",
      "authorship_tag": "ABX9TyN8tU/ZxrSPx9bEy8hd7TGM",
      "include_colab_link": true
    },
    "kernelspec": {
      "name": "python3",
      "display_name": "Python 3"
    },
    "language_info": {
      "name": "python"
    }
  },
  "cells": [
    {
      "cell_type": "markdown",
      "metadata": {
        "id": "view-in-github",
        "colab_type": "text"
      },
      "source": [
        "<a href=\"https://colab.research.google.com/github/KosarDst/SoftwareBugPrediction_inML/blob/main/point_center_algorithm_for_k_means_clustering_to_increase_software_defect_prediction.ipynb\" target=\"_parent\"><img src=\"https://colab.research.google.com/assets/colab-badge.svg\" alt=\"Open In Colab\"/></a>"
      ]
    },
    {
      "cell_type": "markdown",
      "source": [
        "Step 2: Calculate the point center algorithm to get 𝑘 value and point center\n"
      ],
      "metadata": {
        "id": "N5w4RK2bstCc"
      }
    },
    {
      "cell_type": "code",
      "source": [
        "import pandas as pd\n",
        "\n",
        "df1 = pd.read_csv('/content/drive/MyDrive/Dataset_SDP/CM1.csv')\n",
        "df2 = pd.read_csv('/content/drive/MyDrive/Dataset_SDP/KC1.csv')\n",
        "df3 = pd.read_csv('/content/drive/MyDrive/Dataset_SDP/KC3.csv')\n",
        "df4 = pd.read_csv('/content/drive/MyDrive/Dataset_SDP/MC2.csv')\n",
        "df5 = pd.read_csv('/content/drive/MyDrive/Dataset_SDP/MW1.csv')\n",
        "df6 = pd.read_csv('/content/drive/MyDrive/Dataset_SDP/PC1.csv')\n",
        "df7 = pd.read_csv('/content/drive/MyDrive/Dataset_SDP/PC2.csv')\n",
        "df8 = pd.read_csv('/content/drive/MyDrive/Dataset_SDP/PC3.csv')\n",
        "df9 = pd.read_csv('/content/drive/MyDrive/Dataset_SDP/PC4.csv')\n",
        "\n",
        "# combine dataframes into one\n",
        "# df = pd.concat([df1, df2, df3, df4, df5, df6, df7, df8, df9], ignore_index=True)\n",
        "# df = df.drop(df.index[0])\n",
        "# df = df.replace(to_replace=r'^\\D*$', value=0, regex=True)\n",
        "# df = df.apply(pd.to_numeric)"
      ],
      "metadata": {
        "id": "pzPM1dcHmIlU"
      },
      "execution_count": 43,
      "outputs": []
    },
    {
      "cell_type": "markdown",
      "source": [
        "# Simple K-means"
      ],
      "metadata": {
        "id": "2yWdT9f_y5hq"
      }
    },
    {
      "cell_type": "code",
      "source": [
        "import pandas as pd\n",
        "from sklearn.cluster import KMeans\n",
        "from sklearn.metrics import confusion_matrix\n",
        "\n",
        "# Load the CSV file into a Pandas DataFrame\n",
        "df =pd.read_csv('/content/drive/MyDrive/Dataset_SDP/PC3.csv')\n",
        "\n",
        "# Remove the 'id' and 'Defective' columns from the DataFrame\n",
        "X = df.drop(['Defective'], axis=1)\n",
        "\n",
        "# Fit the K-Means model with k=2\n",
        "kmeans = KMeans(n_clusters=2).fit(X)\n",
        "\n",
        "# Predict the cluster labels\n",
        "labels = kmeans.predict(X)\n",
        "\n",
        "# Convert 'N' and 'Y' labels to integers\n",
        "label_map = {'N': 0, 'Y': 1}\n",
        "y_true = df['Defective'].map(label_map)\n",
        "\n",
        "# Create a confusion matrix\n",
        "cm = confusion_matrix(y_true, labels)\n",
        "\n",
        "# # Extract the True Negative, False Positive, False Negative, and True Positive values\n",
        "tn, fn, fp, tp = cm.ravel()\n",
        "\n",
        "# Print the results\n",
        "print('True Negative:', tn)\n",
        "print('False Positive:', fp)\n",
        "print('False Negative:', fn)\n",
        "print('True Positive:', tp)"
      ],
      "metadata": {
        "colab": {
          "base_uri": "https://localhost:8080/"
        },
        "id": "SLztpBSI0m_l",
        "outputId": "d5e87a12-2372-4fc7-f8c0-5d9916c36139"
      },
      "execution_count": 54,
      "outputs": [
        {
          "output_type": "stream",
          "name": "stderr",
          "text": [
            "/usr/local/lib/python3.10/dist-packages/sklearn/cluster/_kmeans.py:870: FutureWarning: The default value of `n_init` will change from 10 to 'auto' in 1.4. Set the value of `n_init` explicitly to suppress the warning\n",
            "  warnings.warn(\n"
          ]
        },
        {
          "output_type": "stream",
          "name": "stdout",
          "text": [
            "True Negative: 960\n",
            "False Positive: 138\n",
            "False Negative: 1\n",
            "True Positive: 0\n"
          ]
        }
      ]
    }
  ]
}